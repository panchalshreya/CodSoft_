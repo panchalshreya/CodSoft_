{
 "cells": [
  {
   "cell_type": "markdown",
   "id": "7aba7af7",
   "metadata": {},
   "source": [
    "# ROCK, PAPER or SCISSORS"
   ]
  },
  {
   "cell_type": "code",
   "execution_count": 4,
   "id": "09856c94",
   "metadata": {},
   "outputs": [
    {
     "name": "stdout",
     "output_type": "stream",
     "text": [
      "Welcome to Rock, Paper, Scissors!\n",
      "Choose rock, paper, or scissors: paper\n",
      "You chose paper\n",
      "Computer chose rock\n",
      "You win\n",
      "Score - You: 1 Computer: 0\n",
      "Play again? (yes/no): yes\n",
      "Choose rock, paper, or scissors: rock\n",
      "You chose rock\n",
      "Computer chose scissors\n",
      "You win\n",
      "Score - You: 2 Computer: 0\n",
      "Play again? (yes/no): no\n"
     ]
    }
   ],
   "source": [
    "import random\n",
    "\n",
    "# to get user's choice\n",
    "def select():\n",
    "    while True:\n",
    "        user_choice = input(\"Choose rock, paper, or scissors: \").lower()\n",
    "        if user_choice in (\"rock\", \"paper\", \"scissors\"):\n",
    "            return user_choice\n",
    "        else:\n",
    "            print(\"Invalid selection. Please choose rock, paper, or scissors.\")\n",
    "\n",
    "# randomly select the computer's choice\n",
    "def computer_selected():\n",
    "    return random.choice([\"rock\", \"paper\", \"scissors\"])\n",
    "\n",
    "# show the winner\n",
    "def winner(user_choice, computer_choice):\n",
    "    if user_choice == computer_choice:\n",
    "        return \"Tie\"\n",
    "    elif (\n",
    "        (user_choice == \"rock\" and computer_choice == \"scissors\") or\n",
    "        (user_choice == \"scissors\" and computer_choice == \"paper\") or\n",
    "        (user_choice == \"paper\" and computer_choice == \"rock\")\n",
    "    ):\n",
    "        return \"You win\"\n",
    "    else:\n",
    "        return \"Computer wins\"\n",
    "\n",
    "# Main game function\n",
    "def s():\n",
    "    user_score = 0\n",
    "    computer_score = 0\n",
    "\n",
    "    while True:\n",
    "        user_choice = select()\n",
    "        computer_choice = computer_selected()\n",
    "\n",
    "        print(f\"You chose {user_choice}\")\n",
    "        print(f\"Computer chose {computer_choice}\")\n",
    "\n",
    "        result = winner(user_choice, computer_choice)\n",
    "        print(result)\n",
    "\n",
    "        if result == \"You win\":\n",
    "            user_score += 1\n",
    "        elif result == \"Computer wins\":\n",
    "            computer_score += 1\n",
    "\n",
    "        print(f\"Score - You: {user_score} Computer: {computer_score}\")\n",
    "\n",
    "        play_again = input(\"Play again? (yes/no): \").lower()\n",
    "        if play_again != \"yes\":\n",
    "            break\n",
    "\n",
    "if __name__ == \"__main__\":\n",
    "    print(\"Welcome to Rock, Paper, Scissors!\")\n",
    "    s()\n"
   ]
  },
  {
   "cell_type": "code",
   "execution_count": null,
   "id": "5645f88f",
   "metadata": {},
   "outputs": [],
   "source": []
  }
 ],
 "metadata": {
  "kernelspec": {
   "display_name": "Python 3 (ipykernel)",
   "language": "python",
   "name": "python3"
  },
  "language_info": {
   "codemirror_mode": {
    "name": "ipython",
    "version": 3
   },
   "file_extension": ".py",
   "mimetype": "text/x-python",
   "name": "python",
   "nbconvert_exporter": "python",
   "pygments_lexer": "ipython3",
   "version": "3.9.12"
  }
 },
 "nbformat": 4,
 "nbformat_minor": 5
}
