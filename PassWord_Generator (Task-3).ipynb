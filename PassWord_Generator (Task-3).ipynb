{
 "cells": [
  {
   "cell_type": "markdown",
   "id": "8be4755c",
   "metadata": {},
   "source": [
    "# PassWord Generator"
   ]
  },
  {
   "cell_type": "code",
   "execution_count": 2,
   "id": "e3c0cd5c",
   "metadata": {},
   "outputs": [
    {
     "name": "stdout",
     "output_type": "stream",
     "text": [
      "Enter the preferred password length: 10\n",
      "Created Password: nO=pQ7/DEA\n"
     ]
    }
   ],
   "source": [
    "# Load the important libraries \n",
    "import random\n",
    "import string\n",
    "\n",
    "\n",
    "def create_password(preferred_length):\n",
    "    # To create the strong password combination of random letters , numbers and characters\n",
    "    letters = string.ascii_letters + string.digits + string.punctuation\n",
    "    \n",
    "    # Create a suffle the password using the specified length\n",
    "    password = ''.join(random.choice(letters) for _ in range(preferred_length))\n",
    "    \n",
    "    return password\n",
    "\n",
    "def s():\n",
    "    try:\n",
    "        # it will store the user's input for the preferred length of the password\n",
    "        preferred_length = int(input(\"Enter the preferred password length: \"))\n",
    "        \n",
    "        # Check if the preferred length is valid (greater than 0)\n",
    "        if preferred_length <= 0:\n",
    "            print(\"Password length must be greater than 0.\")\n",
    "        else:\n",
    "            # Create and show the password\n",
    "            password = create_password(preferred_length)\n",
    "            print(\"Created Password:\", password)\n",
    "    except ValueError:\n",
    "        print(\"Invalid input. Please enter a valid number for password.\")\n",
    "\n",
    "if __name__ == \"__main__\":\n",
    "    s()\n"
   ]
  },
  {
   "cell_type": "code",
   "execution_count": null,
   "id": "cda0a9b8",
   "metadata": {},
   "outputs": [],
   "source": []
  }
 ],
 "metadata": {
  "kernelspec": {
   "display_name": "Python 3 (ipykernel)",
   "language": "python",
   "name": "python3"
  },
  "language_info": {
   "codemirror_mode": {
    "name": "ipython",
    "version": 3
   },
   "file_extension": ".py",
   "mimetype": "text/x-python",
   "name": "python",
   "nbconvert_exporter": "python",
   "pygments_lexer": "ipython3",
   "version": "3.9.12"
  }
 },
 "nbformat": 4,
 "nbformat_minor": 5
}
