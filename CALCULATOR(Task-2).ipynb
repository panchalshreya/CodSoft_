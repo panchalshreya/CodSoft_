{
 "cells": [
  {
   "cell_type": "markdown",
   "id": "e009ccbd",
   "metadata": {},
   "source": [
    "# CALCULATOR"
   ]
  },
  {
   "cell_type": "code",
   "execution_count": 1,
   "id": "6d3393d5",
   "metadata": {},
   "outputs": [
    {
     "name": "stdout",
     "output_type": "stream",
     "text": [
      "Select the Method\n",
      "1. Addition \n",
      "2. Subtraction \n",
      "3. Multiplication \n",
      "4. Division \n",
      "5. Exponential \n",
      "\n",
      "Enter the Calculation_Method = 1 | 2 | 3 | 4 | 5 : 3\n",
      "Enter the 1st Number : 25\n",
      "Enter the 2nd Number : 25\n",
      "25.0 * 25.0 = 625.0\n"
     ]
    }
   ],
   "source": [
    "# Performing the basic arithmetic operations for calculations \n",
    "\n",
    "# Addition of numbers\n",
    "def Add(n_1,n_2):\n",
    "    return n_1+n_2\n",
    "\n",
    "# Subtraction of numbers \n",
    "def Subtract(n_1,n_2):\n",
    "    return n_1-n_2\n",
    "\n",
    "# Multiplication of numbers\n",
    "def Multiply(n_1,n_2):\n",
    "    return n_1*n_2\n",
    "\n",
    "# Division of numbers \n",
    "def Divide(n_1,n_2):\n",
    "    return n_1/n_2\n",
    "\n",
    "# Exponential of numbers \n",
    "def Exponential(n_1,n_2):\n",
    "    return n_1**n_2\n",
    "\n",
    "\n",
    "# Select the Calculation method \n",
    "print(\"Select the Method\")\n",
    "print(\"1. Addition \\n\"\\\n",
    "      \"2. Subtraction \\n\"\\\n",
    "      \"3. Multiplication \\n\"\\\n",
    "      \"4. Division \\n\" \\\n",
    "      \"5. Exponential \\n\")\n",
    "\n",
    "Calculation_Method = int(input(\"Enter the Calculation_Method = 1 | 2 | 3 | 4 | 5 : \" ))\n",
    "\n",
    "\n",
    "# Input the numbers \n",
    "n_1 = float(input(\"Enter the 1st Number : \"))\n",
    "n_2 = float(input(\"Enter the 2nd Number : \"))\n",
    "\n",
    "    \n",
    "\n",
    "# Display the result \n",
    "if Calculation_Method == 1 :\n",
    "    print(n_1 , \"+\" , n_2 , \"=\" , Add(n_1,n_2))\n",
    "    \n",
    "elif Calculation_Method == 2 :\n",
    "    print(n_1 , \"-\" , n_2 , \"=\" , Subtract(n_1,n_2))\n",
    "    \n",
    "elif Calculation_Method == 3 :\n",
    "    print(n_1 , \"*\" , n_2 , \"=\" , Multiply(n_1,n_2))\n",
    "    \n",
    "elif Calculation_Method == 4 :\n",
    "    print(n_1 , \"/\" , n_2 , \"=\" , Divide(n_1,n_2))\n",
    "    \n",
    "elif Calculation_Method == 5 :\n",
    "    print(n_1 , \"**\" , n_2 , \"=\" , Exponential(n_1,n_2))\n",
    "    \n",
    "else :\n",
    "    print(\"INVALID NUMBER\")"
   ]
  },
  {
   "cell_type": "code",
   "execution_count": null,
   "id": "219def93",
   "metadata": {},
   "outputs": [],
   "source": []
  }
 ],
 "metadata": {
  "kernelspec": {
   "display_name": "Python 3 (ipykernel)",
   "language": "python",
   "name": "python3"
  },
  "language_info": {
   "codemirror_mode": {
    "name": "ipython",
    "version": 3
   },
   "file_extension": ".py",
   "mimetype": "text/x-python",
   "name": "python",
   "nbconvert_exporter": "python",
   "pygments_lexer": "ipython3",
   "version": "3.9.12"
  }
 },
 "nbformat": 4,
 "nbformat_minor": 5
}
